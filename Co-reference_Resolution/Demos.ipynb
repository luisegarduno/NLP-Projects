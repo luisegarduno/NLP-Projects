{
 "cells": [
  {
   "cell_type": "markdown",
   "id": "0439475c",
   "metadata": {},
   "source": [
    "### Demos for NeuralCoref & OpenIE"
   ]
  },
  {
   "cell_type": "markdown",
   "id": "23ad6ef8",
   "metadata": {},
   "source": [
    "### 1. NeuralCoref Example\n",
    "- State-of-the-art coreference resolution based on neural nets and spaCy"
   ]
  },
  {
   "cell_type": "code",
   "execution_count": 1,
   "id": "8db73741",
   "metadata": {},
   "outputs": [
    {
     "name": "stdout",
     "output_type": "stream",
     "text": [
      "[My sister: [My sister, She], a dog: [a dog, him]]\n",
      "Angela: [Angela, She]\n",
      "Boston: [Boston, that city]\n"
     ]
    }
   ],
   "source": [
    "import spacy\n",
    "import neuralcoref\n",
    "\n",
    "nlp = spacy.load('en')\n",
    "neuralcoref.add_to_pipe(nlp)\n",
    "doc1 = nlp('My sister has a dog. She loves him.')\n",
    "print(doc1._.coref_clusters)\n",
    "\n",
    "doc2 = nlp('Angela lives in Boston. She is quite happy in that city.')\n",
    "for ent in doc2.ents:\n",
    "    print(ent._.coref_cluster)"
   ]
  },
  {
   "cell_type": "markdown",
   "id": "4e6ffe89",
   "metadata": {},
   "source": [
    "### 2. Stanford's OpenIE Example"
   ]
  },
  {
   "cell_type": "code",
   "execution_count": 2,
   "id": "63b6cb46",
   "metadata": {},
   "outputs": [
    {
     "name": "stdout",
     "output_type": "stream",
     "text": [
      "Text: John have dinner today and he enjoyed it..\n",
      "Starting server with command: java -Xmx8G -cp /home/blurry/.stanfordnlp_resources/stanford-corenlp-4.1.0/* edu.stanford.nlp.pipeline.StanfordCoreNLPServer -port 9000 -timeout 60000 -threads 5 -maxCharLength 100000 -quiet True -serverProperties corenlp_server-f3119d3bb2e44f72.props -preload openie\n",
      "|- {'subject': 'he', 'relation': 'enjoyed', 'object': 'it'}\n",
      "|- {'subject': 'John', 'relation': 'have dinner at_time', 'object': 'today'}\n"
     ]
    }
   ],
   "source": [
    "from openie import StanfordOpenIE\n",
    "\n",
    "with StanfordOpenIE() as client:\n",
    "    text = 'John have dinner today and he enjoyed it.'\n",
    "    print('Text: %s.' % text)\n",
    "    for triple in client.annotate(text):\n",
    "        print('|-', triple)"
   ]
  }
 ],
 "metadata": {
  "kernelspec": {
   "display_name": "Python 3",
   "language": "python",
   "name": "python3"
  },
  "language_info": {
   "codemirror_mode": {
    "name": "ipython",
    "version": 3
   },
   "file_extension": ".py",
   "mimetype": "text/x-python",
   "name": "python",
   "nbconvert_exporter": "python",
   "pygments_lexer": "ipython3",
   "version": "3.8.0"
  }
 },
 "nbformat": 4,
 "nbformat_minor": 5
}
