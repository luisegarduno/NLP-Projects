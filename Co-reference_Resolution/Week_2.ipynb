{
 "cells": [
  {
   "cell_type": "markdown",
   "id": "51389a0d",
   "metadata": {},
   "source": [
    "## __Goal 1 : Making a NeuralCoref function__"
   ]
  },
  {
   "cell_type": "code",
   "execution_count": null,
   "id": "31097ec3",
   "metadata": {},
   "outputs": [],
   "source": [
    "import spacy\n",
    "import neuralcoref\n",
    "\n",
    "def NeuralCoref(text, visualize=False, debug=False):\n",
    "    nlp = spacy.load('en')\n",
    "    neuralcoref.add_to_pipe(nlp)\n",
    "    \n",
    "    doc = nlp(text)\n",
    "        \n",
    "    #z1 = doc._.coref_clusters\n",
    "    #z2 = doc._.coref_clusters[1].mentions\n",
    "    #z3 = doc._.coref_clusters[1].mentions[-1]\n",
    "    #z4 = doc._.coref_clusters[1].mentions[-1]._.coref_cluster.main\n",
    "    #z5 = token = doc[-1]\n",
    "    #z6 = token._.in_coref\n",
    "    #z7 = token._.coref_clusters\n",
    "    #z8 = span = doc[-1:]\n",
    "    #z9 = span._.is_coref\n",
    "    #z0 = span._.coref_cluster.main\n",
    "    #z01 = span._.coref_cluster.main._.coref_cluster\n",
    "    #print(\"==> \", z1, \"\\n\\n\")\n",
    "    \n",
    "    \n",
    "    #print(len(doc._.coref_clusters))\n",
    "    \n",
    "    for i in range(len(doc._.coref_clusters)):\n",
    "        #print(\"==> \", i)\n",
    "        a = doc._.coref_clusters[i].mentions[-1]\n",
    "        b = doc._.coref_clusters[i].mentions[-1]._.coref_cluster.main\n",
    "        text = text.replace(str(a), str(b))\n",
    "        if debug: print(\"|- \", text);\n",
    "    if visualize: print(\"==> \", text);\n",
    "    \n",
    "    \n",
    "    #for i, j in doc._.coref_clusters:\n",
    "    #    text = text.replace(str(j), str(i))\n",
    "    #    if debug: print(\"|- \", text)\n",
    "    #print(\"==> \", text)\n",
    "    \n",
    "    return text"
   ]
  },
  {
   "cell_type": "code",
   "execution_count": null,
   "id": "f2e659a0",
   "metadata": {},
   "outputs": [],
   "source": [
    "str_1 = 'My sister has a dog. She loves him.'\n",
    "str_2 = 'John have dinner today and he enjoyed it.'\n",
    "str_3 = 'Angela lives in Boston. She is quite happy in that city.'\n",
    "\n",
    "file_1 = open('test/4.txt', 'r')\n",
    "str_4 = file_1.read()\n",
    "file_1.close()\n",
    "\n",
    "# a1 = NeuralCoref(str_1) \n",
    "# a2 = NeuralCoref(str_2) \n",
    "# a3 = NeuralCoref(str_3)\n",
    "# a4 = NeuralCoref(str_4)"
   ]
  },
  {
   "cell_type": "markdown",
   "id": "f60db33a",
   "metadata": {},
   "source": [
    "\n",
    "-----------------------------------\n",
    "\n",
    "## __Goal 2 : OpenIE + NeuralCoref__\n",
    "\n",
    "\n",
    "### &nbsp;&nbsp;&nbsp; 2.1 : OpenIE (Before)"
   ]
  },
  {
   "cell_type": "code",
   "execution_count": null,
   "id": "843657a7",
   "metadata": {},
   "outputs": [],
   "source": [
    "from openie import StanfordOpenIE\n",
    "\n",
    "def OpenIE(text, visualize=False, debug=False):\n",
    "    with StanfordOpenIE() as client:\n",
    "        i=1\n",
    "        if visualize: print(\"=======================> INPUT <=======================\\n\\n%s\" % text);\n",
    "        if visualize: print(\"\\n\\n=======================> OUTPUT <=======================\");\n",
    "        for triple in client.annotate(text):\n",
    "            if i: i=0; print();\n",
    "            print(\"==> \", triple)"
   ]
  },
  {
   "cell_type": "code",
   "execution_count": null,
   "id": "3dd69be6",
   "metadata": {},
   "outputs": [],
   "source": [
    "#b1 = OpenIE(str_1)\n",
    "\n",
    "#b2 = OpenIE(str_2)\n",
    "\n",
    "#b3 = OpenIE(str_3)\n",
    "\n",
    "b4 = OpenIE(str_4)"
   ]
  },
  {
   "cell_type": "markdown",
   "id": "5113c246",
   "metadata": {},
   "source": [
    "### &nbsp;&nbsp;&nbsp; 2.2 : NeuralCoref --> OpenIE (After)"
   ]
  },
  {
   "cell_type": "code",
   "execution_count": null,
   "id": "dd2991e3",
   "metadata": {},
   "outputs": [],
   "source": [
    "# b1 = OpenIE(NeuralCoref(str_1))\n",
    "\n",
    "# b2 = OpenIE(NeuralCoref(str_2))\n",
    "\n",
    "# b3 = OpenIE(NeuralCoref(str_3))\n",
    "\n",
    "b4 = OpenIE(NeuralCoref(str_4))"
   ]
  },
  {
   "cell_type": "code",
   "execution_count": null,
   "id": "8d68f16e",
   "metadata": {},
   "outputs": [],
   "source": [
    "#%%bash\n",
    "#echo -e \"=======================> INPUT <=======================\\n\"; cat ex.txt\n",
    "\n",
    "#java -cp \"stanford-corenlp-4.2.0/*\" -Xmx5g edu.stanford.nlp.pipeline.StanfordCoreNLP -file ex.txt;\n",
    "\n",
    "#echo -e \"\\n\\n=======================> OUTPUT <=======================\"; cat ex.txt.out"
   ]
  }
 ],
 "metadata": {
  "kernelspec": {
   "display_name": "Python 3",
   "language": "python",
   "name": "python3"
  },
  "language_info": {
   "codemirror_mode": {
    "name": "ipython",
    "version": 3
   },
   "file_extension": ".py",
   "mimetype": "text/x-python",
   "name": "python",
   "nbconvert_exporter": "python",
   "pygments_lexer": "ipython3",
   "version": "3.8.0"
  }
 },
 "nbformat": 4,
 "nbformat_minor": 5
}
