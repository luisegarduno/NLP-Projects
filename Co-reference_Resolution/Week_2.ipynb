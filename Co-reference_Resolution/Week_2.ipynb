{
 "cells": [
  {
   "cell_type": "markdown",
   "id": "ace2a306",
   "metadata": {},
   "source": [
    "## __Goal 1 : Making a NeuralCoref function__"
   ]
  },
  {
   "cell_type": "code",
   "execution_count": 1,
   "id": "9cbc4c07",
   "metadata": {},
   "outputs": [],
   "source": [
    "import spacy\n",
    "import neuralcoref\n",
    "\n",
    "def NeuralCoref(text, visualize=False, debug=False):\n",
    "    nlp = spacy.load('en')\n",
    "    neuralcoref.add_to_pipe(nlp)\n",
    "    \n",
    "    doc = nlp(text)\n",
    "    \n",
    "    if visualize: print(\"=======================> INPUT <=======================\\n\\n%s\" % text);\n",
    "        \n",
    "    for i in range(len(doc._.coref_clusters)):\n",
    "        a = doc._.coref_clusters[i].mentions[-1]\n",
    "        b = doc._.coref_clusters[i].mentions[-1]._.coref_cluster.main\n",
    "        text = text.replace(str(a), str(b))\n",
    "        if debug: print(\"|- \", text);\n",
    "    if visualize: print(\"\\n\\n=======================> OUTPUT <=======================\\n\\n%s\" % text);\n",
    "    \n",
    "    return text"
   ]
  },
  {
   "cell_type": "markdown",
   "id": "6a936f48",
   "metadata": {},
   "source": [
    "#### __String Options__"
   ]
  },
  {
   "cell_type": "code",
   "execution_count": 2,
   "id": "ea63477e",
   "metadata": {},
   "outputs": [],
   "source": [
    "str_1 = 'My sister has a dog. She loves him.'\n",
    "str_2 = 'John have dinner today and he enjoyed it.'\n",
    "str_3 = 'Angela lives in Boston. She is quite happy in that city.'\n",
    "\n",
    "aFile = open('test/0.txt', 'r')\n",
    "str_4 = aFile.read()\n",
    "aFile.close()"
   ]
  },
  {
   "cell_type": "code",
   "execution_count": 3,
   "id": "d0a11ec0",
   "metadata": {},
   "outputs": [
    {
     "name": "stdout",
     "output_type": "stream",
     "text": [
      "=======================> INPUT <=======================\n",
      "\n",
      "The economic impact of information technology has been a subject of a great deal of debate. For business economists, it is useful to identify how information technology (IT) is likely to impact the economy, because IT (defined as computer and communications technology and its applications) is likely to have a substantial impact on the economy's growth during the coming decades. The reason for this is the use of IT by nearly all industries in the economy's base, so that IT becomes a universal input to nearly all other outputs. If IT costs decline, they can create substantial economic gains for many of the industries that use IT, because money spent on IT can be invested in other inputs and improvements in production or services. Furthermore, because business relies upon IT to do a wide range of tasks and to create competitive advantage, by facilitating these tasks for end users, important gains are achieved that are difficult to measure in a classic input-output framework. In addition, IT, seen in a larger context, should have even wider impacts on the economy, because new channels of communications, such as the Internet, cellular television, and broadband applications, will provide business with new channels to reach customers and suppliers.\n",
      "\n",
      "\n",
      "=======================> OUTPUT <=======================\n",
      "\n",
      "The economic impact of information technology has been a subject of a great deal of debate. For business economists, it is useful to identify how information technology (business) is likely to impact the economy, because business (defined as computer and communications technology and computer and communications applications) is likely to have a substantial impact on the economy's growth during the coming decades. The reason for this is the use of business by nearly all industries in the economy's base, so that business becomes a universal input to nearly all other outputs. If business costs decline, this can create substantial economic gains for many of the industries that use business, because money spent on business can be invested in other inputs and improvements in production or services. Furthermore, because business relies upon business to do a wide range of tasks and to create competitive advantage, by facilitating these tasks for end users, important gains are achieved that are difficult to measure in a classic input-output framework. In addition, business, seen in a larger context, should have even wider impacts on the economy, because new channels of communications, such as the Internet, cellular television, and broadband applications, will provide business with new channels to reach customers and suppliers.\n"
     ]
    }
   ],
   "source": [
    "# Replace NeuralCoref parameter with desired string\n",
    "a = NeuralCoref(str_4, visualize=True)"
   ]
  },
  {
   "cell_type": "markdown",
   "id": "0b2e87d3",
   "metadata": {},
   "source": [
    "\n",
    "-----------------------------------\n",
    "\n",
    "## __Goal 2 : Use OpenIE + NeuralCoref__\n",
    "\n",
    "\n",
    "### &nbsp;&nbsp;&nbsp; 2.1 : Create OpenIE Function"
   ]
  },
  {
   "cell_type": "code",
   "execution_count": 4,
   "id": "27556d5a",
   "metadata": {},
   "outputs": [],
   "source": [
    "from openie import StanfordOpenIE\n",
    "\n",
    "def OpenIE(text, visualize=False, debug=False):\n",
    "    with StanfordOpenIE() as client:\n",
    "        i=1\n",
    "        if visualize: print(\"=======================> INPUT <=======================\\n\\n%s\" % text);\n",
    "        if visualize: print(\"\\n\\n=======================> OUTPUT <=======================\");\n",
    "        for triple in client.annotate(text):\n",
    "            if i: i=0; print();\n",
    "            print(\"==> \", triple)"
   ]
  },
  {
   "cell_type": "code",
   "execution_count": 5,
   "id": "e5f8fbb7",
   "metadata": {},
   "outputs": [
    {
     "name": "stdout",
     "output_type": "stream",
     "text": [
      "=======================> INPUT <=======================\n",
      "\n",
      "The economic impact of information technology has been a subject of a great deal of debate. For business economists, it is useful to identify how information technology (IT) is likely to impact the economy, because IT (defined as computer and communications technology and its applications) is likely to have a substantial impact on the economy's growth during the coming decades. The reason for this is the use of IT by nearly all industries in the economy's base, so that IT becomes a universal input to nearly all other outputs. If IT costs decline, they can create substantial economic gains for many of the industries that use IT, because money spent on IT can be invested in other inputs and improvements in production or services. Furthermore, because business relies upon IT to do a wide range of tasks and to create competitive advantage, by facilitating these tasks for end users, important gains are achieved that are difficult to measure in a classic input-output framework. In addition, IT, seen in a larger context, should have even wider impacts on the economy, because new channels of communications, such as the Internet, cellular television, and broadband applications, will provide business with new channels to reach customers and suppliers.\n",
      "\n",
      "\n",
      "=======================> OUTPUT <=======================\n",
      "Starting server with command: java -Xmx8G -cp /home/blurry/.stanfordnlp_resources/stanford-corenlp-4.1.0/* edu.stanford.nlp.pipeline.StanfordCoreNLPServer -port 9000 -timeout 60000 -threads 5 -maxCharLength 100000 -quiet True -serverProperties corenlp_server-65a25f5cb9234af0.props -preload openie\n",
      "\n",
      "==>  {'subject': 'information technology', 'relation': 'impact of been', 'object': 'has subject of deal of debate'}\n",
      "==>  {'subject': 'information technology', 'relation': 'impact of been', 'object': 'has subject of great deal'}\n",
      "==>  {'subject': 'impact', 'relation': 'has', 'object': 'has subject of great deal'}\n",
      "==>  {'subject': 'impact', 'relation': 'has', 'object': 'has subject of deal of debate'}\n",
      "==>  {'subject': 'information technology', 'relation': 'economic impact of been', 'object': 'has subject'}\n",
      "==>  {'subject': 'impact', 'relation': 'has', 'object': 'has subject of deal'}\n",
      "==>  {'subject': 'economic impact', 'relation': 'has', 'object': 'has subject'}\n",
      "==>  {'subject': 'information technology', 'relation': 'impact of been', 'object': 'has subject of deal'}\n",
      "==>  {'subject': 'information technology', 'relation': 'economic impact of been', 'object': 'has subject of deal of debate'}\n",
      "==>  {'subject': 'information technology', 'relation': 'impact of been', 'object': 'has subject'}\n",
      "==>  {'subject': 'economic impact', 'relation': 'has', 'object': 'has subject of great deal'}\n",
      "==>  {'subject': 'economic impact', 'relation': 'has', 'object': 'has subject of deal'}\n",
      "==>  {'subject': 'economic impact', 'relation': 'has', 'object': 'has subject of great deal of debate'}\n",
      "==>  {'subject': 'impact', 'relation': 'has', 'object': 'has subject of great deal of debate'}\n",
      "==>  {'subject': 'information technology', 'relation': 'economic impact of been', 'object': 'has subject of deal'}\n",
      "==>  {'subject': 'impact', 'relation': 'has', 'object': 'has subject'}\n",
      "==>  {'subject': 'information technology', 'relation': 'economic impact of been', 'object': 'has subject of great deal of debate'}\n",
      "==>  {'subject': 'information technology', 'relation': 'economic impact of been', 'object': 'has subject of great deal'}\n",
      "==>  {'subject': 'economic impact', 'relation': 'has', 'object': 'has subject of deal of debate'}\n",
      "==>  {'subject': 'information technology', 'relation': 'impact of been', 'object': 'has subject of great deal of debate'}\n",
      "==>  {'subject': 'it', 'relation': 'is useful For', 'object': 'business economists'}\n",
      "==>  {'subject': 'IT', 'relation': 'have', 'object': 'impact'}\n",
      "==>  {'subject': 'IT', 'relation': 'have', 'object': 'substantial impact'}\n",
      "==>  {'subject': 'IT', 'relation': 'have impact during', 'object': 'decades'}\n",
      "==>  {'subject': 'IT', 'relation': 'have', 'object': \"substantial impact on economy 's growth\"}\n",
      "==>  {'subject': 'IT', 'relation': 'is', 'object': 'likely'}\n",
      "==>  {'subject': 'information technology', 'relation': 'is', 'object': 'likely'}\n",
      "==>  {'subject': 'information technology', 'relation': 'impact', 'object': 'likely'}\n",
      "==>  {'subject': 'economy', 'relation': 'on', 'object': 'growth'}\n",
      "==>  {'subject': 'information technology', 'relation': 'impact', 'object': 'because likely'}\n",
      "==>  {'subject': 'IT', 'relation': 'is', 'object': 'because likely'}\n",
      "==>  {'subject': 'it', 'relation': 'is', 'object': 'useful'}\n",
      "==>  {'subject': 'information technology', 'relation': 'is', 'object': 'how likely'}\n",
      "==>  {'subject': 'IT', 'relation': 'have', 'object': \"impact on economy 's growth\"}\n",
      "==>  {'subject': 'IT', 'relation': 'have impact during', 'object': 'coming decades'}\n",
      "==>  {'subject': 'IT', 'relation': 'becomes', 'object': 'input to all other outputs'}\n",
      "==>  {'subject': 'all industries', 'relation': 'is in', 'object': \"economy 's base\"}\n",
      "==>  {'subject': 'IT', 'relation': 'input to', 'object': 'nearly all other outputs'}\n",
      "==>  {'subject': 'IT', 'relation': 'becomes', 'object': 'universal input to other outputs'}\n",
      "==>  {'subject': 'IT', 'relation': 'input to', 'object': 'other outputs'}\n",
      "==>  {'subject': 'IT', 'relation': 'becomes', 'object': 'input to nearly all other outputs'}\n",
      "==>  {'subject': 'reason', 'relation': 'is use by', 'object': 'all industries in base'}\n",
      "==>  {'subject': 'reason', 'relation': 'is use by', 'object': \"industries in economy 's base\"}\n",
      "==>  {'subject': 'reason', 'relation': 'is use by', 'object': \"all industries in economy 's base\"}\n",
      "==>  {'subject': 'reason', 'relation': 'is', 'object': \"use of IT by industries in economy 's base\"}\n",
      "==>  {'subject': 'reason', 'relation': 'is use by', 'object': \"nearly all industries in economy 's base\"}\n",
      "==>  {'subject': 'reason', 'relation': 'is', 'object': 'use of IT by nearly all industries in base'}\n",
      "==>  {'subject': 'IT', 'relation': 'becomes', 'object': 'universal input to nearly all other outputs'}\n",
      "==>  {'subject': 'reason', 'relation': 'is', 'object': \"use of IT by nearly all industries in economy 's base\"}\n",
      "==>  {'subject': 'IT', 'relation': 'universal input to', 'object': 'nearly all other outputs'}\n",
      "==>  {'subject': 'reason', 'relation': 'is use by', 'object': 'industries in base'}\n",
      "==>  {'subject': 'reason', 'relation': 'is use by', 'object': 'nearly all industries in base'}\n",
      "==>  {'subject': 'IT', 'relation': 'universal input to', 'object': 'all other outputs'}\n",
      "==>  {'subject': 'reason', 'relation': 'is', 'object': 'use of IT by industries in base'}\n",
      "==>  {'subject': 'IT', 'relation': 'becomes', 'object': 'input to other outputs'}\n",
      "==>  {'subject': 'IT', 'relation': 'becomes', 'object': 'universal input to all other outputs'}\n",
      "==>  {'subject': 'reason', 'relation': 'is', 'object': \"use of IT by all industries in economy 's base\"}\n",
      "==>  {'subject': 'IT', 'relation': 'input to', 'object': 'all other outputs'}\n",
      "==>  {'subject': 'IT', 'relation': 'universal input to', 'object': 'other outputs'}\n",
      "==>  {'subject': 'reason', 'relation': 'is', 'object': 'use of IT by all industries in base'}\n",
      "==>  {'subject': 'money', 'relation': 'be invested in', 'object': 'production'}\n",
      "==>  {'subject': 'they', 'relation': 'can create', 'object': 'economic gains'}\n",
      "==>  {'subject': 'they', 'relation': 'can create', 'object': 'substantial gains'}\n",
      "==>  {'subject': 'money', 'relation': 'be invested in', 'object': 'inputs'}\n",
      "==>  {'subject': 'IT', 'relation': 'costs', 'object': 'decline'}\n",
      "==>  {'subject': 'they', 'relation': 'can create', 'object': 'substantial economic gains'}\n",
      "==>  {'subject': 'money', 'relation': 'be', 'object': 'invested in inputs in production'}\n",
      "==>  {'subject': 'money', 'relation': 'spent on', 'object': 'IT'}\n",
      "==>  {'subject': 'money', 'relation': 'be', 'object': 'invested'}\n",
      "==>  {'subject': 'money', 'relation': 'be invested in', 'object': 'other inputs'}\n",
      "==>  {'subject': 'they', 'relation': 'can create', 'object': 'gains'}\n",
      "==>  {'subject': 'money', 'relation': 'be', 'object': 'invested in other inputs in production'}\n",
      "==>  {'subject': 'IT', 'relation': 'do', 'object': 'range of tasks'}\n",
      "==>  {'subject': 'IT', 'relation': 'do', 'object': 'wide range of tasks'}\n",
      "==>  {'subject': 'IT', 'relation': 'wide range of', 'object': 'tasks'}\n",
      "==>  {'subject': 'IT', 'relation': 'do', 'object': 'wide range'}\n",
      "==>  {'subject': 'IT', 'relation': 'do', 'object': 'range'}\n",
      "==>  {'subject': 'IT', 'relation': 'range of', 'object': 'tasks'}\n",
      "==>  {'subject': 'business', 'relation': 'new channels of', 'object': 'communications'}\n",
      "==>  {'subject': 'business', 'relation': 'new channels such', 'object': 'Internet'}\n",
      "==>  {'subject': 'television', 'relation': 'will provide', 'object': 'business'}\n",
      "==>  {'subject': 'new channels', 'relation': 'will provide', 'object': 'business'}\n",
      "==>  {'subject': 'broadband applications', 'relation': 'will provide', 'object': 'business'}\n",
      "==>  {'subject': 'business', 'relation': 'channels such', 'object': 'Internet'}\n",
      "==>  {'subject': 'business', 'relation': 'channels of', 'object': 'communications'}\n",
      "==>  {'subject': 'channels', 'relation': 'will provide', 'object': 'business'}\n",
      "==>  {'subject': 'cellular television', 'relation': 'will provide', 'object': 'business'}\n",
      "==>  {'subject': 'IT', 'relation': 'seen In', 'object': 'addition'}\n"
     ]
    }
   ],
   "source": [
    "# Replace OpenIE parameter with desired string\n",
    "b = OpenIE(str_4, visualize=True)"
   ]
  },
  {
   "cell_type": "markdown",
   "id": "808375a8",
   "metadata": {},
   "source": [
    "### &nbsp;&nbsp;&nbsp; 2.2 : Using NeuralCoref & OpenIE together"
   ]
  },
  {
   "cell_type": "code",
   "execution_count": null,
   "id": "74642900",
   "metadata": {},
   "outputs": [],
   "source": [
    "# Replace NeuralCoref parameter with desired string\n",
    "\n",
    "# Step 1.) Run co-reference resolution\n",
    "#          on string using NeuralCoref.\n",
    "nc = NeuralCoref(str_4)\n",
    "\n",
    "# Step 2.) Run the output through OpenIE\n",
    "c = OpenIE(nc, visualize=True)"
   ]
  },
  {
   "cell_type": "markdown",
   "id": "6ffc34fc",
   "metadata": {},
   "source": [
    "### __2.3 : Example from Stanford's CoreNLP Website\n",
    "\n",
    "Github.io : [StanfordNLP : Overview of CoreNLP](https://stanfordnlp.github.io/CoreNLP/)"
   ]
  },
  {
   "cell_type": "code",
   "execution_count": null,
   "id": "d6a6022b",
   "metadata": {},
   "outputs": [],
   "source": [
    "%%bash\n",
    "echo -e \"=======================> INPUT <=======================\\n\"; cat ex.txt\n",
    "\n",
    "# java -cp \"stanford-corenlp-4.2.0/*\" -Xmx5g edu.stanford.nlp.pipeline.StanfordCoreNLP -file ex.txt;\n",
    "\n",
    "echo -e \"\\n\\n=======================> OUTPUT <=======================\"; cat ex.txt.out"
   ]
  }
 ],
 "metadata": {
  "kernelspec": {
   "display_name": "Python 3",
   "language": "python",
   "name": "python3"
  },
  "language_info": {
   "codemirror_mode": {
    "name": "ipython",
    "version": 3
   },
   "file_extension": ".py",
   "mimetype": "text/x-python",
   "name": "python",
   "nbconvert_exporter": "python",
   "pygments_lexer": "ipython3",
   "version": "3.8.0"
  }
 },
 "nbformat": 4,
 "nbformat_minor": 5
}
