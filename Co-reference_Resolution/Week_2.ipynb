{
 "cells": [
  {
   "cell_type": "markdown",
   "id": "42d1f312",
   "metadata": {},
   "source": [
    "## __Goal 1 : Making a NeuralCoref function__"
   ]
  },
  {
   "cell_type": "code",
   "execution_count": 1,
   "id": "2571107c",
   "metadata": {},
   "outputs": [],
   "source": [
    "import spacy\n",
    "import neuralcoref\n",
    "\n",
    "def NeuralCoref(text, visualize=False, debug=False):\n",
    "    nlp = spacy.load('en')\n",
    "    neuralcoref.add_to_pipe(nlp)\n",
    "    \n",
    "    doc = nlp(text)\n",
    "        \n",
    "    for i in range(len(doc._.coref_clusters)):\n",
    "        a = doc._.coref_clusters[i].mentions[-1]\n",
    "        b = doc._.coref_clusters[i].mentions[-1]._.coref_cluster.main\n",
    "        text = text.replace(str(a), str(b))\n",
    "        if debug: print(\"|- \", text);\n",
    "    if visualize: print(\"==> \", text);\n",
    "    \n",
    "    return text"
   ]
  },
  {
   "cell_type": "markdown",
   "id": "1134f35d",
   "metadata": {},
   "source": [
    "#### __String Options__"
   ]
  },
  {
   "cell_type": "code",
   "execution_count": 2,
   "id": "a64f5b1c",
   "metadata": {},
   "outputs": [],
   "source": [
    "str_1 = 'My sister has a dog. She loves him.'\n",
    "str_2 = 'John have dinner today and he enjoyed it.'\n",
    "str_3 = 'Angela lives in Boston. She is quite happy in that city.'\n",
    "\n",
    "aFile = open('test/0.txt', 'r')\n",
    "str_4 = aFile.read()\n",
    "aFile.close()"
   ]
  },
  {
   "cell_type": "code",
   "execution_count": 3,
   "id": "4716e55b",
   "metadata": {},
   "outputs": [
    {
     "name": "stdout",
     "output_type": "stream",
     "text": [
      "==>  The economic impact of information technology has been a subject of a great deal of debate. For business economists, it is useful to identify how information technology (business) is likely to impact the economy, because business (defined as computer and communications technology and computer and communications applications) is likely to have a substantial impact on the economy's growth during the coming decades. The reason for this is the use of business by nearly all industries in the economy's base, so that business becomes a universal input to nearly all other outputs. If business costs decline, this can create substantial economic gains for many of the industries that use business, because money spent on business can be invested in other inputs and improvements in production or services. Furthermore, because business relies upon business to do a wide range of tasks and to create competitive advantage, by facilitating these tasks for end users, important gains are achieved that are difficult to measure in a classic input-output framework. In addition, business, seen in a larger context, should have even wider impacts on the economy, because new channels of communications, such as the Internet, cellular television, and broadband applications, will provide business with new channels to reach customers and suppliers.\n"
     ]
    }
   ],
   "source": [
    "# Replace NeuralCoref parameter with desired string\n",
    "a = NeuralCoref(str_4, visualize=True)"
   ]
  },
  {
   "cell_type": "markdown",
   "id": "cb25495b",
   "metadata": {},
   "source": [
    "\n",
    "-----------------------------------\n",
    "\n",
    "## __Goal 2 : OpenIE + NeuralCoref__\n",
    "\n",
    "\n",
    "### &nbsp;&nbsp;&nbsp; 2.1 : OpenIE (Before)"
   ]
  },
  {
   "cell_type": "code",
   "execution_count": 4,
   "id": "1f75c7db",
   "metadata": {},
   "outputs": [],
   "source": [
    "from openie import StanfordOpenIE\n",
    "\n",
    "def OpenIE(text, visualize=False, debug=False):\n",
    "    with StanfordOpenIE() as client:\n",
    "        i=1\n",
    "        if visualize: print(\"=======================> INPUT <=======================\\n\\n%s\" % text);\n",
    "        if visualize: print(\"\\n\\n=======================> OUTPUT <=======================\");\n",
    "        for triple in client.annotate(text):\n",
    "            if i: i=0; print();\n",
    "            print(\"==> \", triple)"
   ]
  },
  {
   "cell_type": "code",
   "execution_count": 5,
   "id": "e4e1bd6f",
   "metadata": {},
   "outputs": [
    {
     "name": "stdout",
     "output_type": "stream",
     "text": [
      "Starting server with command: java -Xmx8G -cp /home/blurry/.stanfordnlp_resources/stanford-corenlp-4.1.0/* edu.stanford.nlp.pipeline.StanfordCoreNLPServer -port 9000 -timeout 60000 -threads 5 -maxCharLength 100000 -quiet True -serverProperties corenlp_server-29ee5fba3f72497e.props -preload openie\n",
      "\n",
      "==>  {'subject': 'information technology', 'relation': 'impact of been', 'object': 'has subject of deal of debate'}\n",
      "==>  {'subject': 'information technology', 'relation': 'impact of been', 'object': 'has subject of great deal'}\n",
      "==>  {'subject': 'impact', 'relation': 'has', 'object': 'has subject of great deal'}\n",
      "==>  {'subject': 'impact', 'relation': 'has', 'object': 'has subject of deal of debate'}\n",
      "==>  {'subject': 'information technology', 'relation': 'economic impact of been', 'object': 'has subject'}\n",
      "==>  {'subject': 'impact', 'relation': 'has', 'object': 'has subject of deal'}\n",
      "==>  {'subject': 'economic impact', 'relation': 'has', 'object': 'has subject'}\n",
      "==>  {'subject': 'information technology', 'relation': 'impact of been', 'object': 'has subject of deal'}\n",
      "==>  {'subject': 'information technology', 'relation': 'economic impact of been', 'object': 'has subject of deal of debate'}\n",
      "==>  {'subject': 'information technology', 'relation': 'impact of been', 'object': 'has subject'}\n",
      "==>  {'subject': 'economic impact', 'relation': 'has', 'object': 'has subject of great deal'}\n",
      "==>  {'subject': 'economic impact', 'relation': 'has', 'object': 'has subject of deal'}\n",
      "==>  {'subject': 'economic impact', 'relation': 'has', 'object': 'has subject of great deal of debate'}\n",
      "==>  {'subject': 'impact', 'relation': 'has', 'object': 'has subject of great deal of debate'}\n",
      "==>  {'subject': 'information technology', 'relation': 'economic impact of been', 'object': 'has subject of deal'}\n",
      "==>  {'subject': 'impact', 'relation': 'has', 'object': 'has subject'}\n",
      "==>  {'subject': 'information technology', 'relation': 'economic impact of been', 'object': 'has subject of great deal of debate'}\n",
      "==>  {'subject': 'information technology', 'relation': 'economic impact of been', 'object': 'has subject of great deal'}\n",
      "==>  {'subject': 'economic impact', 'relation': 'has', 'object': 'has subject of deal of debate'}\n",
      "==>  {'subject': 'information technology', 'relation': 'impact of been', 'object': 'has subject of great deal of debate'}\n",
      "==>  {'subject': 'it', 'relation': 'is useful For', 'object': 'business economists'}\n",
      "==>  {'subject': 'IT', 'relation': 'have', 'object': 'impact'}\n",
      "==>  {'subject': 'IT', 'relation': 'have', 'object': 'substantial impact'}\n",
      "==>  {'subject': 'IT', 'relation': 'have impact during', 'object': 'decades'}\n",
      "==>  {'subject': 'IT', 'relation': 'have', 'object': \"substantial impact on economy 's growth\"}\n",
      "==>  {'subject': 'IT', 'relation': 'is', 'object': 'likely'}\n",
      "==>  {'subject': 'information technology', 'relation': 'is', 'object': 'likely'}\n",
      "==>  {'subject': 'information technology', 'relation': 'impact', 'object': 'likely'}\n",
      "==>  {'subject': 'economy', 'relation': 'on', 'object': 'growth'}\n",
      "==>  {'subject': 'information technology', 'relation': 'impact', 'object': 'because likely'}\n",
      "==>  {'subject': 'IT', 'relation': 'is', 'object': 'because likely'}\n",
      "==>  {'subject': 'it', 'relation': 'is', 'object': 'useful'}\n",
      "==>  {'subject': 'information technology', 'relation': 'is', 'object': 'how likely'}\n",
      "==>  {'subject': 'IT', 'relation': 'have', 'object': \"impact on economy 's growth\"}\n",
      "==>  {'subject': 'IT', 'relation': 'have impact during', 'object': 'coming decades'}\n",
      "==>  {'subject': 'IT', 'relation': 'becomes', 'object': 'input to all other outputs'}\n",
      "==>  {'subject': 'all industries', 'relation': 'is in', 'object': \"economy 's base\"}\n",
      "==>  {'subject': 'IT', 'relation': 'input to', 'object': 'nearly all other outputs'}\n",
      "==>  {'subject': 'IT', 'relation': 'becomes', 'object': 'universal input to other outputs'}\n",
      "==>  {'subject': 'IT', 'relation': 'input to', 'object': 'other outputs'}\n",
      "==>  {'subject': 'IT', 'relation': 'becomes', 'object': 'input to nearly all other outputs'}\n",
      "==>  {'subject': 'reason', 'relation': 'is use by', 'object': 'all industries in base'}\n",
      "==>  {'subject': 'reason', 'relation': 'is use by', 'object': \"industries in economy 's base\"}\n",
      "==>  {'subject': 'reason', 'relation': 'is use by', 'object': \"all industries in economy 's base\"}\n",
      "==>  {'subject': 'reason', 'relation': 'is', 'object': \"use of IT by industries in economy 's base\"}\n",
      "==>  {'subject': 'reason', 'relation': 'is use by', 'object': \"nearly all industries in economy 's base\"}\n",
      "==>  {'subject': 'reason', 'relation': 'is', 'object': 'use of IT by nearly all industries in base'}\n",
      "==>  {'subject': 'IT', 'relation': 'becomes', 'object': 'universal input to nearly all other outputs'}\n",
      "==>  {'subject': 'reason', 'relation': 'is', 'object': \"use of IT by nearly all industries in economy 's base\"}\n",
      "==>  {'subject': 'IT', 'relation': 'universal input to', 'object': 'nearly all other outputs'}\n",
      "==>  {'subject': 'reason', 'relation': 'is use by', 'object': 'industries in base'}\n",
      "==>  {'subject': 'reason', 'relation': 'is use by', 'object': 'nearly all industries in base'}\n",
      "==>  {'subject': 'IT', 'relation': 'universal input to', 'object': 'all other outputs'}\n",
      "==>  {'subject': 'reason', 'relation': 'is', 'object': 'use of IT by industries in base'}\n",
      "==>  {'subject': 'IT', 'relation': 'becomes', 'object': 'input to other outputs'}\n",
      "==>  {'subject': 'IT', 'relation': 'becomes', 'object': 'universal input to all other outputs'}\n",
      "==>  {'subject': 'reason', 'relation': 'is', 'object': \"use of IT by all industries in economy 's base\"}\n",
      "==>  {'subject': 'IT', 'relation': 'input to', 'object': 'all other outputs'}\n",
      "==>  {'subject': 'IT', 'relation': 'universal input to', 'object': 'other outputs'}\n",
      "==>  {'subject': 'reason', 'relation': 'is', 'object': 'use of IT by all industries in base'}\n",
      "==>  {'subject': 'money', 'relation': 'be invested in', 'object': 'production'}\n",
      "==>  {'subject': 'they', 'relation': 'can create', 'object': 'economic gains'}\n",
      "==>  {'subject': 'they', 'relation': 'can create', 'object': 'substantial gains'}\n",
      "==>  {'subject': 'money', 'relation': 'be invested in', 'object': 'inputs'}\n",
      "==>  {'subject': 'IT', 'relation': 'costs', 'object': 'decline'}\n",
      "==>  {'subject': 'they', 'relation': 'can create', 'object': 'substantial economic gains'}\n",
      "==>  {'subject': 'money', 'relation': 'be', 'object': 'invested in inputs in production'}\n",
      "==>  {'subject': 'money', 'relation': 'spent on', 'object': 'IT'}\n",
      "==>  {'subject': 'money', 'relation': 'be', 'object': 'invested'}\n",
      "==>  {'subject': 'money', 'relation': 'be invested in', 'object': 'other inputs'}\n",
      "==>  {'subject': 'they', 'relation': 'can create', 'object': 'gains'}\n",
      "==>  {'subject': 'money', 'relation': 'be', 'object': 'invested in other inputs in production'}\n",
      "==>  {'subject': 'IT', 'relation': 'do', 'object': 'range of tasks'}\n",
      "==>  {'subject': 'IT', 'relation': 'do', 'object': 'wide range of tasks'}\n",
      "==>  {'subject': 'IT', 'relation': 'wide range of', 'object': 'tasks'}\n",
      "==>  {'subject': 'IT', 'relation': 'do', 'object': 'wide range'}\n",
      "==>  {'subject': 'IT', 'relation': 'do', 'object': 'range'}\n",
      "==>  {'subject': 'IT', 'relation': 'range of', 'object': 'tasks'}\n",
      "==>  {'subject': 'business', 'relation': 'new channels of', 'object': 'communications'}\n",
      "==>  {'subject': 'business', 'relation': 'new channels such', 'object': 'Internet'}\n",
      "==>  {'subject': 'television', 'relation': 'will provide', 'object': 'business'}\n",
      "==>  {'subject': 'new channels', 'relation': 'will provide', 'object': 'business'}\n",
      "==>  {'subject': 'broadband applications', 'relation': 'will provide', 'object': 'business'}\n",
      "==>  {'subject': 'business', 'relation': 'channels such', 'object': 'Internet'}\n",
      "==>  {'subject': 'business', 'relation': 'channels of', 'object': 'communications'}\n",
      "==>  {'subject': 'channels', 'relation': 'will provide', 'object': 'business'}\n",
      "==>  {'subject': 'cellular television', 'relation': 'will provide', 'object': 'business'}\n",
      "==>  {'subject': 'IT', 'relation': 'seen In', 'object': 'addition'}\n"
     ]
    }
   ],
   "source": [
    "# Replace OpenIE parameter with desired string\n",
    "b = OpenIE(str_4)"
   ]
  },
  {
   "cell_type": "markdown",
   "id": "cc18e47a",
   "metadata": {},
   "source": [
    "### &nbsp;&nbsp;&nbsp; 2.2 : NeuralCoref --> OpenIE (After)"
   ]
  },
  {
   "cell_type": "code",
   "execution_count": 6,
   "id": "50e90721",
   "metadata": {},
   "outputs": [
    {
     "name": "stdout",
     "output_type": "stream",
     "text": [
      "Starting server with command: java -Xmx8G -cp /home/blurry/.stanfordnlp_resources/stanford-corenlp-4.1.0/* edu.stanford.nlp.pipeline.StanfordCoreNLPServer -port 9000 -timeout 60000 -threads 5 -maxCharLength 100000 -quiet True -serverProperties corenlp_server-b18d4c9a7da14987.props -preload openie\n",
      "\n",
      "==>  {'subject': 'information technology', 'relation': 'impact of been', 'object': 'has subject of deal of debate'}\n",
      "==>  {'subject': 'information technology', 'relation': 'impact of been', 'object': 'has subject of great deal'}\n",
      "==>  {'subject': 'impact', 'relation': 'has', 'object': 'has subject of great deal'}\n",
      "==>  {'subject': 'impact', 'relation': 'has', 'object': 'has subject of deal of debate'}\n",
      "==>  {'subject': 'information technology', 'relation': 'economic impact of been', 'object': 'has subject'}\n",
      "==>  {'subject': 'impact', 'relation': 'has', 'object': 'has subject of deal'}\n",
      "==>  {'subject': 'economic impact', 'relation': 'has', 'object': 'has subject'}\n",
      "==>  {'subject': 'information technology', 'relation': 'impact of been', 'object': 'has subject of deal'}\n",
      "==>  {'subject': 'information technology', 'relation': 'economic impact of been', 'object': 'has subject of deal of debate'}\n",
      "==>  {'subject': 'information technology', 'relation': 'impact of been', 'object': 'has subject'}\n",
      "==>  {'subject': 'economic impact', 'relation': 'has', 'object': 'has subject of great deal'}\n",
      "==>  {'subject': 'economic impact', 'relation': 'has', 'object': 'has subject of deal'}\n",
      "==>  {'subject': 'economic impact', 'relation': 'has', 'object': 'has subject of great deal of debate'}\n",
      "==>  {'subject': 'impact', 'relation': 'has', 'object': 'has subject of great deal of debate'}\n",
      "==>  {'subject': 'information technology', 'relation': 'economic impact of been', 'object': 'has subject of deal'}\n",
      "==>  {'subject': 'impact', 'relation': 'has', 'object': 'has subject'}\n",
      "==>  {'subject': 'information technology', 'relation': 'economic impact of been', 'object': 'has subject of great deal of debate'}\n",
      "==>  {'subject': 'information technology', 'relation': 'economic impact of been', 'object': 'has subject of great deal'}\n",
      "==>  {'subject': 'economic impact', 'relation': 'has', 'object': 'has subject of deal of debate'}\n",
      "==>  {'subject': 'information technology', 'relation': 'impact of been', 'object': 'has subject of great deal of debate'}\n",
      "==>  {'subject': 'business', 'relation': 'have impact during', 'object': 'coming decades'}\n",
      "==>  {'subject': 'economy', 'relation': 'on', 'object': 'growth'}\n",
      "==>  {'subject': 'business', 'relation': 'have', 'object': \"impact on economy 's growth\"}\n",
      "==>  {'subject': 'it', 'relation': 'is', 'object': 'useful'}\n",
      "==>  {'subject': 'information technology', 'relation': 'is', 'object': 'how likely'}\n",
      "==>  {'subject': 'business', 'relation': 'have', 'object': 'impact'}\n",
      "==>  {'subject': 'it', 'relation': 'is useful For', 'object': 'business economists'}\n",
      "==>  {'subject': 'business', 'relation': 'is', 'object': 'likely'}\n",
      "==>  {'subject': 'business', 'relation': 'is', 'object': 'because likely'}\n",
      "==>  {'subject': 'business', 'relation': 'have', 'object': \"substantial impact on economy 's growth\"}\n",
      "==>  {'subject': 'information technology', 'relation': 'is', 'object': 'likely'}\n",
      "==>  {'subject': 'information technology', 'relation': 'impact', 'object': 'likely'}\n",
      "==>  {'subject': 'information technology', 'relation': 'impact', 'object': 'because likely'}\n",
      "==>  {'subject': 'business', 'relation': 'have', 'object': 'substantial impact'}\n",
      "==>  {'subject': 'business', 'relation': 'have impact during', 'object': 'decades'}\n",
      "==>  {'subject': 'reason', 'relation': 'is', 'object': \"use of business by industries in economy 's base\"}\n",
      "==>  {'subject': 'all industries', 'relation': 'is in', 'object': \"economy 's base\"}\n",
      "==>  {'subject': 'reason', 'relation': 'is', 'object': 'use of business by industries in base'}\n",
      "==>  {'subject': 'business', 'relation': 'becomes', 'object': 'universal input to nearly all other outputs'}\n",
      "==>  {'subject': 'business', 'relation': 'input to', 'object': 'other outputs'}\n",
      "==>  {'subject': 'reason', 'relation': 'is use by', 'object': 'all industries in base'}\n",
      "==>  {'subject': 'business', 'relation': 'universal input to', 'object': 'other outputs'}\n",
      "==>  {'subject': 'reason', 'relation': 'is use by', 'object': \"industries in economy 's base\"}\n",
      "==>  {'subject': 'reason', 'relation': 'is use by', 'object': \"all industries in economy 's base\"}\n",
      "==>  {'subject': 'business', 'relation': 'universal input to', 'object': 'all other outputs'}\n",
      "==>  {'subject': 'reason', 'relation': 'is use by', 'object': \"nearly all industries in economy 's base\"}\n",
      "==>  {'subject': 'business', 'relation': 'input to', 'object': 'nearly all other outputs'}\n",
      "==>  {'subject': 'reason', 'relation': 'is', 'object': 'use of business by all industries in base'}\n",
      "==>  {'subject': 'reason', 'relation': 'is', 'object': \"use of business by all industries in economy 's base\"}\n",
      "==>  {'subject': 'reason', 'relation': 'is use by', 'object': 'industries in base'}\n",
      "==>  {'subject': 'reason', 'relation': 'is use by', 'object': 'nearly all industries in base'}\n",
      "==>  {'subject': 'reason', 'relation': 'is', 'object': \"use of business by nearly all industries in economy 's base\"}\n",
      "==>  {'subject': 'business', 'relation': 'becomes', 'object': 'input to all other outputs'}\n",
      "==>  {'subject': 'business', 'relation': 'becomes', 'object': 'input to nearly all other outputs'}\n",
      "==>  {'subject': 'business', 'relation': 'becomes', 'object': 'universal input to other outputs'}\n",
      "==>  {'subject': 'business', 'relation': 'becomes', 'object': 'universal input to all other outputs'}\n",
      "==>  {'subject': 'business', 'relation': 'input to', 'object': 'all other outputs'}\n",
      "==>  {'subject': 'reason', 'relation': 'is', 'object': 'use of business by nearly all industries in base'}\n",
      "==>  {'subject': 'business', 'relation': 'universal input to', 'object': 'nearly all other outputs'}\n",
      "==>  {'subject': 'business', 'relation': 'becomes', 'object': 'input to other outputs'}\n",
      "==>  {'subject': 'money', 'relation': 'spent on', 'object': 'business'}\n",
      "==>  {'subject': 'money', 'relation': 'be', 'object': 'invested in inputs in production'}\n",
      "==>  {'subject': 'money', 'relation': 'be invested in', 'object': 'production'}\n",
      "==>  {'subject': 'money', 'relation': 'be invested in', 'object': 'inputs'}\n",
      "==>  {'subject': 'money', 'relation': 'be', 'object': 'invested'}\n",
      "==>  {'subject': 'money', 'relation': 'be invested in', 'object': 'other inputs'}\n",
      "==>  {'subject': 'money', 'relation': 'be', 'object': 'invested in other inputs in production'}\n",
      "==>  {'subject': 'range', 'relation': 'create', 'object': 'advantage'}\n",
      "==>  {'subject': 'range', 'relation': 'create', 'object': 'competitive advantage'}\n",
      "==>  {'subject': 'business', 'relation': 'do', 'object': 'range'}\n",
      "==>  {'subject': 'wide range', 'relation': 'create', 'object': 'competitive advantage'}\n",
      "==>  {'subject': 'business', 'relation': 'do', 'object': 'range of tasks'}\n",
      "==>  {'subject': 'business', 'relation': 'relies upon', 'object': 'business'}\n",
      "==>  {'subject': 'wide range', 'relation': 'create', 'object': 'advantage'}\n",
      "==>  {'subject': 'business', 'relation': 'do', 'object': 'wide range of tasks'}\n",
      "==>  {'subject': 'business', 'relation': 'do', 'object': 'wide range'}\n",
      "==>  {'subject': 'business', 'relation': 'seen In', 'object': 'addition'}\n",
      "==>  {'subject': 'business', 'relation': 'new channels of', 'object': 'communications'}\n",
      "==>  {'subject': 'business', 'relation': 'new channels such', 'object': 'Internet'}\n",
      "==>  {'subject': 'television', 'relation': 'will provide', 'object': 'business'}\n",
      "==>  {'subject': 'new channels', 'relation': 'will provide', 'object': 'business'}\n",
      "==>  {'subject': 'broadband applications', 'relation': 'will provide', 'object': 'business'}\n",
      "==>  {'subject': 'business', 'relation': 'channels such', 'object': 'Internet'}\n",
      "==>  {'subject': 'business', 'relation': 'channels of', 'object': 'communications'}\n",
      "==>  {'subject': 'channels', 'relation': 'will provide', 'object': 'business'}\n",
      "==>  {'subject': 'cellular television', 'relation': 'will provide', 'object': 'business'}\n"
     ]
    }
   ],
   "source": [
    "# Replace NeuralCoref parameter with desired string\n",
    "c = OpenIE(NeuralCoref(str_4))"
   ]
  },
  {
   "cell_type": "code",
   "execution_count": 7,
   "id": "df0ab8b6",
   "metadata": {},
   "outputs": [],
   "source": [
    "#%%bash\n",
    "#echo -e \"=======================> INPUT <=======================\\n\"; cat ex.txt\n",
    "\n",
    "#java -cp \"stanford-corenlp-4.2.0/*\" -Xmx5g edu.stanford.nlp.pipeline.StanfordCoreNLP -file ex.txt;\n",
    "\n",
    "#echo -e \"\\n\\n=======================> OUTPUT <=======================\"; cat ex.txt.out"
   ]
  }
 ],
 "metadata": {
  "kernelspec": {
   "display_name": "Python 3",
   "language": "python",
   "name": "python3"
  },
  "language_info": {
   "codemirror_mode": {
    "name": "ipython",
    "version": 3
   },
   "file_extension": ".py",
   "mimetype": "text/x-python",
   "name": "python",
   "nbconvert_exporter": "python",
   "pygments_lexer": "ipython3",
   "version": "3.8.0"
  }
 },
 "nbformat": 4,
 "nbformat_minor": 5
}
